{
 "cells": [
  {
   "cell_type": "markdown",
   "metadata": {},
   "source": [
    "# gamma from paper"
   ]
  },
  {
   "cell_type": "code",
   "execution_count": 22,
   "metadata": {},
   "outputs": [],
   "source": [
    "import numpy as np\n",
    "\n",
    "def gamma_from_paper(freq,n=1, d=0.325e-3, density=8908 ,n_a = 1.5e-5, density_a = 1.2):\n",
    "  omega_j = 2 * np.pi * freq\n",
    "  M = (d/4) * np.sqrt(omega_j/n_a)\n",
    "  gamma = (density_a / density) * omega_j * (((2 * np.sqrt(2) * M) + 1) /(M ** 2))\n",
    "  return gamma * n"
   ]
  },
  {
   "cell_type": "code",
   "execution_count": 23,
   "metadata": {},
   "outputs": [
    {
     "name": "stdout",
     "output_type": "stream",
     "text": [
      "0.9293098224837263\n"
     ]
    }
   ],
   "source": [
    "print(gamma_from_paper( 187.4))"
   ]
  },
  {
   "cell_type": "code",
   "execution_count": 24,
   "metadata": {},
   "outputs": [
    {
     "name": "stdout",
     "output_type": "stream",
     "text": [
      "2.375128482895349\n"
     ]
    }
   ],
   "source": [
    "print(gamma_from_paper(374.891238, 2))"
   ]
  },
  {
   "cell_type": "code",
   "execution_count": 25,
   "metadata": {},
   "outputs": [
    {
     "name": "stdout",
     "output_type": "stream",
     "text": [
      "4.162459150566896\n"
     ]
    }
   ],
   "source": [
    "print(gamma_from_paper(564.229, 3))"
   ]
  },
  {
   "cell_type": "code",
   "execution_count": null,
   "metadata": {},
   "outputs": [],
   "source": []
  },
  {
   "cell_type": "code",
   "execution_count": 14,
   "metadata": {},
   "outputs": [],
   "source": [
    "def force_from_paper(d, freq, density, T = 5 * 9.81, L = 0.7, n =1, n_a = 1.5e-5, density_a = 1.2):\n",
    "  vel = np.sqrt(T / 0.66e-3)\n",
    "  M = (d/4) * np.sqrt(2 * np.pi * freq/n_a)\n",
    "  Force = 2 * (np.pi ** 2) * density_a * freq * vel * (n**2) * L * ((np.sqrt(2)/M) + (1/(2*(M**2))))\n",
    "  return Force"
   ]
  },
  {
   "cell_type": "code",
   "execution_count": 15,
   "metadata": {},
   "outputs": [
    {
     "name": "stdout",
     "output_type": "stream",
     "text": [
      "2481453.783702435\n"
     ]
    }
   ],
   "source": [
    "print(force_from_paper(0.325e-3, 187.4, 8908))"
   ]
  },
  {
   "cell_type": "code",
   "execution_count": null,
   "metadata": {},
   "outputs": [],
   "source": []
  }
 ],
 "metadata": {
  "kernelspec": {
   "display_name": "Python 3.8.8 ('base')",
   "language": "python",
   "name": "python3"
  },
  "language_info": {
   "codemirror_mode": {
    "name": "ipython",
    "version": 3
   },
   "file_extension": ".py",
   "mimetype": "text/x-python",
   "name": "python",
   "nbconvert_exporter": "python",
   "pygments_lexer": "ipython3",
   "version": "3.8.8"
  },
  "orig_nbformat": 4,
  "vscode": {
   "interpreter": {
    "hash": "10d3c1f9185a641f6aa55506facf346f460eaf63353321eedc03b497a0e50134"
   }
  }
 },
 "nbformat": 4,
 "nbformat_minor": 2
}
