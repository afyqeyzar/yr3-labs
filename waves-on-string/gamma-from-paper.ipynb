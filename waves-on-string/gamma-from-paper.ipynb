{
 "cells": [
  {
   "cell_type": "markdown",
   "metadata": {},
   "source": [
    "# gamma from paper"
   ]
  },
  {
   "cell_type": "code",
   "execution_count": 2,
   "metadata": {},
   "outputs": [],
   "source": [
    "import numpy as np\n",
    "\n",
    "def gamma_from_paper(d, freq, density ,n_a = 1.5e-5, density_a = 1.2):\n",
    "  omega_j = 2 * np.pi * freq\n",
    "  M = (d/4) * np.sqrt(omega_j/n_a)\n",
    "  gamma = (density_a / density) * (((2 * np.sqrt(2) * M) + 1) /(M ** 2))\n",
    "  return gamma"
   ]
  },
  {
   "cell_type": "code",
   "execution_count": 4,
   "metadata": {},
   "outputs": [
    {
     "name": "stdout",
     "output_type": "stream",
     "text": [
      "0.0007892436067883503\n"
     ]
    }
   ],
   "source": [
    "print(gamma_from_paper(0.325e-3, 187.4, 8908))"
   ]
  },
  {
   "cell_type": "code",
   "execution_count": null,
   "metadata": {},
   "outputs": [],
   "source": []
  }
 ],
 "metadata": {
  "kernelspec": {
   "display_name": "Python 3.8.8 ('base')",
   "language": "python",
   "name": "python3"
  },
  "language_info": {
   "codemirror_mode": {
    "name": "ipython",
    "version": 3
   },
   "file_extension": ".py",
   "mimetype": "text/x-python",
   "name": "python",
   "nbconvert_exporter": "python",
   "pygments_lexer": "ipython3",
   "version": "3.8.8"
  },
  "orig_nbformat": 4,
  "vscode": {
   "interpreter": {
    "hash": "10d3c1f9185a641f6aa55506facf346f460eaf63353321eedc03b497a0e50134"
   }
  }
 },
 "nbformat": 4,
 "nbformat_minor": 2
}
