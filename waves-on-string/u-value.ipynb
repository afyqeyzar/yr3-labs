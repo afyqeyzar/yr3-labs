{
 "cells": [
  {
   "cell_type": "code",
   "execution_count": 55,
   "metadata": {},
   "outputs": [],
   "source": [
    "import numpy as np\n",
    "import matplotlib.pyplot as plt"
   ]
  },
  {
   "cell_type": "code",
   "execution_count": 56,
   "metadata": {},
   "outputs": [],
   "source": [
    "mass ,signal,c1,c3,wavelength,velocity,ratio,mass_per_length = np.loadtxt(\"./u-value.csv\", skiprows=1, delimiter=',', unpack=True)"
   ]
  },
  {
   "cell_type": "code",
   "execution_count": 61,
   "metadata": {},
   "outputs": [
    {
     "name": "stdout",
     "output_type": "stream",
     "text": [
      "[ 596.2    773.736 1124.968 1411.168 1874.016]\n"
     ]
    }
   ],
   "source": [
    "velocity_err = (velocity ** 2) * ((2 * (0.1/c1)) + (2 *(0.01/0.4)))\n",
    "print(velocity_err)"
   ]
  },
  {
   "cell_type": "code",
   "execution_count": 58,
   "metadata": {},
   "outputs": [
    {
     "name": "stdout",
     "output_type": "stream",
     "text": [
      "[0.00066695] [[1.38410941e-16]]\n"
     ]
    }
   ],
   "source": [
    "from scipy.optimize import curve_fit\n",
    "\n",
    "tension = mass * 9.81\n",
    "\n",
    "def line_fit(x_value,gradient):\n",
    "  return gradient * x_value\n",
    "\n",
    "initial_guess = [0.007]\n",
    "fit, cov = curve_fit(line_fit,velocity ** 2,tension, p0=initial_guess, absolute_sigma=True, sigma=1/velocity_err )\n",
    "\n",
    "gradient = fit\n",
    "\n",
    "print(fit,cov)"
   ]
  },
  {
   "cell_type": "code",
   "execution_count": 59,
   "metadata": {},
   "outputs": [
    {
     "name": "stdout",
     "output_type": "stream",
     "text": [
      "[ 4.905  9.81  14.715 19.62  24.525]\n",
      "[0.00981 0.00981 0.00981 0.00981 0.00981]\n"
     ]
    }
   ],
   "source": [
    "print(tension)\n",
    "tension_uncer = (tension) * (0.001 / mass)\n",
    "print(tension_uncer)"
   ]
  },
  {
   "cell_type": "code",
   "execution_count": 60,
   "metadata": {},
   "outputs": [
    {
     "data": {
      "text/plain": [
       "<matplotlib.legend.Legend at 0x7fa5c099a4c0>"
      ]
     },
     "execution_count": 60,
     "metadata": {},
     "output_type": "execute_result"
    }
   ],
   "source": [
    "#%matplotlib tk\n",
    "plt.plot(velocity ** 2, tension, 'black')\n",
    "plt.title('Plot of velocity squared against tension', fontsize=13)\n",
    "plt.plot(velocity ** 2,line_fit(velocity ** 2,fit))\n",
    "#plt.title(r'$\\alpha > \\beta$')\n",
    "plt.ylabel('Tension (N)', fontsize=11)\n",
    "plt.xlabel('Velocity Squared ' r'($ms^{-1}$)', fontsize=11)\n",
    "plt.errorbar(velocity ** 2, tension ,  xerr=velocity_err,fmt='.', mew=2, ms=3, capsize=4,ecolor='black' )\n",
    "plt.grid()\n",
    "plt.legend(['Data','Fitted line'])\n",
    "#plt.show()"
   ]
  },
  {
   "cell_type": "code",
   "execution_count": null,
   "metadata": {},
   "outputs": [],
   "source": []
  }
 ],
 "metadata": {
  "kernelspec": {
   "display_name": "Python 3.8.8 ('base')",
   "language": "python",
   "name": "python3"
  },
  "language_info": {
   "codemirror_mode": {
    "name": "ipython",
    "version": 3
   },
   "file_extension": ".py",
   "mimetype": "text/x-python",
   "name": "python",
   "nbconvert_exporter": "python",
   "pygments_lexer": "ipython3",
   "version": "3.8.8"
  },
  "orig_nbformat": 4,
  "vscode": {
   "interpreter": {
    "hash": "10d3c1f9185a641f6aa55506facf346f460eaf63353321eedc03b497a0e50134"
   }
  }
 },
 "nbformat": 4,
 "nbformat_minor": 2
}
