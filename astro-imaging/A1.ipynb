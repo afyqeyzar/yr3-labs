{
 "cells": [
  {
   "cell_type": "code",
   "execution_count": null,
   "metadata": {},
   "outputs": [],
   "source": [
    "from astropy.io import fits\n",
    "import matplotlib.pyplot as plt\n",
    "import numpy as np\n",
    "from scipy.optimize import curve_fit\n",
    "import seaborn as sns\n",
    "\n",
    "hdulist= fits.open('A1_mosaic.fits')\n",
    "headers = hdulist[0].header\n",
    "data = hdulist[0].data\n",
    "print(\"1\")"
   ]
  },
  {
   "cell_type": "code",
   "execution_count": null,
   "metadata": {},
   "outputs": [],
   "source": [
    "data_flat = data.flatten()\n",
    "data_backg = [d for d in data_flat if (d>300 and d<4000).all()]\n",
    "data_filter = [d for d in data_flat if (d>7000).all()]\n",
    "print(\"2\")"
   ]
  },
  {
   "cell_type": "code",
   "execution_count": null,
   "metadata": {},
   "outputs": [],
   "source": [
    "plt.imshow(data)\n",
    "plt.show()\n",
    "print(\"3\")"
   ]
  },
  {
   "cell_type": "code",
   "execution_count": null,
   "metadata": {},
   "outputs": [],
   "source": [
    "counts, edges, patches = plt.hist(data_backg, bins=1000)\n",
    "counts_cut = [c for c in counts if (c<400000).all() & (c!=0).all()]\n",
    "counts_cut_index = np.where((counts<400000) & (counts!=0))\n",
    "#print(counts_cut_index)\n",
    "\n",
    "centers = 0.5*(edges[1:]+ edges[:-1])\n",
    "centers_cut = centers[counts_cut_index]\n",
    "#plt.plot(centers_cut, counts_cut)\n",
    "#plt.plot(centers,counts)\n",
    "\n",
    "def gaussian(x, mu, sig,A):\n",
    "    return A*np.exp(-np.power(x-mu,2.)/(2*np.power(sig,2.)))\n",
    "\n",
    "initial_guess = [3420,12,3e5]\n",
    "po,po_cov = curve_fit(gaussian, centers_cut, counts_cut,initial_guess)\n",
    "plt.plot(centers_cut, gaussian(centers_cut, po[0],po[1],po[2]))\n",
    "plt.show()\n",
    "\n",
    "print('Mean =  %.5e +/- %.5e' %(po[0],np.sqrt(po_cov[0,0])))\n",
    "print('Sigma = %.3e +/- %.3e' %(po[1],np.sqrt(po_cov[1,1])))\n",
    "print('A =  %.3e +/- %.3e' %(po[2],np.sqrt(po_cov[2,2])))\n",
    "print(\"4\")"
   ]
  },
  {
   "cell_type": "code",
   "execution_count": null,
   "metadata": {},
   "outputs": [],
   "source": [
    "noise_mean = po[0]\n",
    "noise_sigma = po[1]\n",
    "obj_lowerbound = 5*noise_sigma + noise_mean\n",
    "artf_lowerbound = 6000\n",
    "\n",
    "print(obj_lowerbound)\n",
    "print(artf_lowerbound)\n",
    "\n",
    "\n",
    "plt.plot(centers_cut,counts_cut)\n",
    "plt.plot(centers_cut, gaussian(centers_cut, po[0],po[1],po[2]))\n",
    "plt.plot(obj_lowerbound,0,'x')\n"
   ]
  },
  {
   "cell_type": "code",
   "execution_count": null,
   "metadata": {},
   "outputs": [],
   "source": [
    "data_clean = data.copy()\n",
    "\n",
    "'''\n",
    "data_clean[2218:2358,888:920] = 0\n",
    "data_clean[3385:3442,2454:2478] = 0\n",
    "data_clean[3198:3442,753:797] = 0\n",
    "data_clean[1397:1454,2075:2102] = 0\n",
    "data_clean[2698:2835,955:992] = 0\n",
    "data_clean[2283:2337,2117:2147] = 0\n",
    "data_clean[3700:3806,2117:2148] = 0\n",
    "data_clean[4075:4117,547:576] = 0\n",
    "'''\n",
    "\n",
    "def mask(df,y1,y2,x1,x2,lowerbound=artf_lowerbound):\n",
    "    artf_idx = []\n",
    "    for i in range(y2-y1):\n",
    "        for j in range(x2-x1):\n",
    "            if df[y1:y2,x1:x2][i][j] > lowerbound:\n",
    "                df[y1:y2,x1:x2][i][j] = 0 \n",
    "                artf_idx.append([x1+j,y1+i])\n",
    "    \n",
    "    return artf_idx\n",
    "                \n",
    "                \n",
    "#data[y1:y2,x1:x2] = [0 for d in data[y1:y2,x1:x2] if (d>obj_lower_bound).all()]\n",
    "\n",
    "artf_idxs = []\n",
    "\n",
    "artf_idxs.append(mask(data_clean,2218,2358,858,950,obj_lowerbound))\n",
    "artf_idxs.append(mask(data_clean,888,920,2218,235))\n",
    "artf_idxs.append(mask(data_clean,3385,3442,2434,2500,obj_lowerbound))\n",
    "artf_idxs.append(mask(data_clean,3198,3442,728,835,obj_lowerbound))\n",
    "artf_idxs.append(mask(data_clean,1397,1454,2050,2122,obj_lowerbound))\n",
    "artf_idxs.append(mask(data_clean,2698,2835,920,1020,obj_lowerbound))\n",
    "artf_idxs.append(mask(data_clean,2283,2337,2100,2160,obj_lowerbound))\n",
    "artf_idxs.append(mask(data_clean,3700,3806,2100,2170,obj_lowerbound))\n",
    "artf_idxs.append(mask(data_clean,4075,4117,530,596,obj_lowerbound))\n",
    "artf_idxs.append(mask(data_clean,4320,4408,1100,1660,obj_lowerbound))\n",
    "artf_idxs.append(mask(data_clean,557,597,1752,1790,obj_lowerbound))\n",
    "\n",
    "\n",
    "#artf_idxs.append(mask(data_clean,0,4610,1015,1735))\n",
    "\n",
    "artf_idxs.append(mask(data_clean,0,4610,1410,1457,obj_lowerbound)) #long rectangle for the giant star streak\n",
    "artf_idxs.append(mask(data_clean,4010,4053,1410,1475,obj_lowerbound)) #long rectangle for the giant star streak\n",
    "artf_idxs.append(mask(data_clean,2900,3500,1100,1800,obj_lowerbound))\n",
    "artf_idxs.append(mask(data_clean,0,10,967,1720,obj_lowerbound))\n",
    "artf_idxs.append(mask(data_clean,6,55,1628,1708,obj_lowerbound))\n",
    "artf_idxs.append(mask(data_clean,10,25,1328,1505,obj_lowerbound))\n",
    "artf_idxs.append(mask(data_clean,115,175,1290,1540,obj_lowerbound))\n",
    "artf_idxs.append(mask(data_clean,210,320,1386,1482,obj_lowerbound))\n",
    "artf_idxs.append(mask(data_clean,310,356,1010,1704,obj_lowerbound))\n",
    "artf_idxs.append(mask(data_clean,422,457,1100,1653,obj_lowerbound))\n",
    "\n",
    "print(\"5\")"
   ]
  },
  {
   "cell_type": "code",
   "execution_count": null,
   "metadata": {},
   "outputs": [],
   "source": [
    "from matplotlib import colors\n",
    "\n",
    "plt.imshow(data_clean)\n",
    "plt.show()\n",
    "print(\"6\")"
   ]
  },
  {
   "cell_type": "code",
   "execution_count": null,
   "metadata": {},
   "outputs": [],
   "source": [
    "hdulist= fits.open('A1_mosaic.fits')\n",
    "headers = hdulist[0].header\n",
    "data = hdulist[0].data\n",
    "\n",
    "X=data_clean.copy()[200:-2000,200:-200]\n",
    "\n",
    "fig, (ax1, ax2) = plt.subplots(1,2)\n",
    "\n",
    "\n",
    "X1=X.copy()\n",
    "\n",
    "#X_flat = X1.flatten()\n",
    "#X0 = [0 if (d<3481).all() else d for d in X_flat]\n",
    "#X = np.reshape(X0, np.shape(X1))\n",
    "\n",
    "obj_idxs = []\n",
    "for j,row in enumerate(X1):\n",
    "    for i,pixval in enumerate(row):\n",
    "        if pixval <= obj_lowerbound:\n",
    "            X1[j][i] = 0\n",
    "        else:\n",
    "            obj_idxs.append([i,j])\n",
    "obj_idxs = np.array(obj_idxs)\n",
    "\n",
    "ax1.imshow(X)\n",
    "ax2.imshow(X1)\n",
    "plt.show()\n"
   ]
  },
  {
   "cell_type": "code",
   "execution_count": null,
   "metadata": {},
   "outputs": [],
   "source": []
  }
 ],
 "metadata": {
  "kernelspec": {
   "display_name": "Python 3.8.8 ('base')",
   "language": "python",
   "name": "python3"
  },
  "language_info": {
   "codemirror_mode": {
    "name": "ipython",
    "version": 3
   },
   "file_extension": ".py",
   "mimetype": "text/x-python",
   "name": "python",
   "nbconvert_exporter": "python",
   "pygments_lexer": "ipython3",
   "version": "3.8.8"
  },
  "orig_nbformat": 4,
  "vscode": {
   "interpreter": {
    "hash": "10d3c1f9185a641f6aa55506facf346f460eaf63353321eedc03b497a0e50134"
   }
  }
 },
 "nbformat": 4,
 "nbformat_minor": 2
}
